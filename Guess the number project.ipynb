{
 "cells": [
  {
   "cell_type": "code",
   "execution_count": 22,
   "id": "0c9ae5d5",
   "metadata": {},
   "outputs": [
    {
     "name": "stdout",
     "output_type": "stream",
     "text": [
      "enter the number you want to guess between 1 to 10:-55\n",
      "To high! Guesses left: 4\n",
      "enter the number you want to guess between 1 to 10:-5\n",
      "To low! Guesses left: 3\n",
      "enter the number you want to guess between 1 to 10:-5\n",
      "To low! Guesses left: 2\n",
      "enter the number you want to guess between 1 to 10:-5\n",
      "To low! Guesses left: 1\n",
      "enter the number you want to guess between 1 to 10:-5\n",
      "To low! Guesses left: 0\n",
      "sorry,you didn't guess the number.It was 8\n",
      "Thanks for playing\n",
      "Try next time\n"
     ]
    }
   ],
   "source": [
    "import random\n",
    "cnumber=random.randint(1,10)\n",
    "guesses_left=5\n",
    "while guesses_left>0:\n",
    "    guess=int(input(\"enter the number you want to guess between 1 to 10:-\"))\n",
    "    guesses_left-=1 \n",
    "    if guess==cnumber:\n",
    "        print(\"your number guess is correct\")\n",
    "        print(\"congratulation,you won the game!!\")\n",
    "        break\n",
    "    elif guess>cnumber:\n",
    "        print(\"To high! Guesses left:\",guesses_left)\n",
    "    else:\n",
    "        print(\"To low! Guesses left:\",guesses_left)\n",
    "    if guesses_left==0: \n",
    "        print(\"sorry,you didn't guess the number.It was\",cnumber)\n",
    "        print(\"Thanks for playing\")\n",
    "        print(\"Try next time\")\n",
    "    \n",
    "\n",
    "        \n",
    "        \n",
    "        \n",
    "        \n",
    "        \n",
    "    \n",
    "        \n",
    "    \n",
    "        \n",
    "        "
   ]
  },
  {
   "cell_type": "code",
   "execution_count": null,
   "id": "c4d27a9c",
   "metadata": {},
   "outputs": [],
   "source": []
  },
  {
   "cell_type": "code",
   "execution_count": null,
   "id": "d74e6fa9",
   "metadata": {},
   "outputs": [],
   "source": []
  }
 ],
 "metadata": {
  "kernelspec": {
   "display_name": "Python 3 (ipykernel)",
   "language": "python",
   "name": "python3"
  },
  "language_info": {
   "codemirror_mode": {
    "name": "ipython",
    "version": 3
   },
   "file_extension": ".py",
   "mimetype": "text/x-python",
   "name": "python",
   "nbconvert_exporter": "python",
   "pygments_lexer": "ipython3",
   "version": "3.9.13"
  }
 },
 "nbformat": 4,
 "nbformat_minor": 5
}
