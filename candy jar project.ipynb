{
 "cells": [
  {
   "cell_type": "markdown",
   "id": "e2e7e915",
   "metadata": {},
   "source": [
    "# Candy Jar project"
   ]
  },
  {
   "cell_type": "code",
   "execution_count": 1,
   "id": "fa47e3d3",
   "metadata": {},
   "outputs": [
    {
     "name": "stdout",
     "output_type": "stream",
     "text": [
      "candies in jar:- 1000\n",
      "Enter a candies you want from jar500\n",
      "remaning candies:- 500\n",
      "Enter a candies you want from jar200\n",
      "remaning candies:- 300\n",
      "Enter a candies you want from jar100\n",
      "remaning candies:- 200\n",
      "Enter a candies you want from jar300\n",
      "Insufficient Candy in jar\n"
     ]
    }
   ],
   "source": [
    "total_candies=1000\n",
    "print(\"candies in jar:-\",total_candies)\n",
    "\n",
    "while (True):\n",
    "    candies_taken=int(input(\"Enter a candies you want from jar\"))\n",
    "    if (candies_taken>total_candies):\n",
    "        print(\"Insufficient Candy in jar\")\n",
    "        break\n",
    "    elif(candies_taken<=total_candies and candies_taken>0 ) :\n",
    "        total_candies=total_candies-candies_taken\n",
    "        print(\"remaning candies:-\",total_candies)\n",
    "\n",
    "    else:\n",
    "        print(\"candy jar is empty\",)\n",
    "        break\n",
    "        \n",
    "\n",
    "    \n",
    "    \n",
    "\n",
    "\n",
    "        \n",
    "        \n",
    "        \n",
    "     \n",
    "    \n",
    "    \n",
    "    \n",
    "    \n",
    "    \n",
    "   \n",
    "    "
   ]
  },
  {
   "cell_type": "code",
   "execution_count": null,
   "id": "2251541c",
   "metadata": {},
   "outputs": [],
   "source": []
  },
  {
   "cell_type": "code",
   "execution_count": null,
   "id": "0f0697c6",
   "metadata": {},
   "outputs": [],
   "source": []
  },
  {
   "cell_type": "code",
   "execution_count": null,
   "id": "029f6ee5",
   "metadata": {},
   "outputs": [],
   "source": [
    "                         "
   ]
  }
 ],
 "metadata": {
  "kernelspec": {
   "display_name": "Python 3 (ipykernel)",
   "language": "python",
   "name": "python3"
  },
  "language_info": {
   "codemirror_mode": {
    "name": "ipython",
    "version": 3
   },
   "file_extension": ".py",
   "mimetype": "text/x-python",
   "name": "python",
   "nbconvert_exporter": "python",
   "pygments_lexer": "ipython3",
   "version": "3.9.13"
  }
 },
 "nbformat": 4,
 "nbformat_minor": 5
}
